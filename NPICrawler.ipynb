{
 "cells": [
  {
   "cell_type": "code",
   "execution_count": 504,
   "metadata": {},
   "outputs": [],
   "source": [
    "import time\n",
    "from datetime import datetime\n",
    "from selenium import webdriver\n",
    "from selenium.webdriver.common.by import By\n",
    "from selenium.webdriver.common.keys import Keys\n",
    "from selenium.webdriver.support.ui import WebDriverWait\n",
    "from selenium.webdriver.support.expected_conditions import presence_of_element_located\n",
    "import mysql.connector\n",
    "import sqlite3\n",
    "from datetime import datetime, date"
   ]
  },
  {
   "cell_type": "code",
   "execution_count": 186,
   "metadata": {},
   "outputs": [],
   "source": [
    "# Get the npi list\n",
    "with open('NPI.txt') as file:  \n",
    "    data = file.read().split(',') "
   ]
  },
  {
   "cell_type": "code",
   "execution_count": 285,
   "metadata": {},
   "outputs": [],
   "source": [
    "# Initiate web driver\n",
    "driver = webdriver.Chrome(executable_path='./bin/chromedriver')"
   ]
  },
  {
   "cell_type": "code",
   "execution_count": 507,
   "metadata": {},
   "outputs": [],
   "source": [
    "# Initiate database. If the data already exists in database, resume crawling. \n",
    "def create_database(database_name, data):\n",
    "    conn = sqlite3.connect(database_name)\n",
    "    cursor = conn.cursor()\n",
    "    try:\n",
    "        statement = '''\n",
    "            CREATE TABLE 'CMS_national_provider'(\n",
    "                'id' INTEGER PRIMARY KEY,\n",
    "                'npi' INTEGER,\n",
    "                'date' TIMESTAMP,\n",
    "                'abimid' INTEGER,\n",
    "                'specialty' TEXT,\n",
    "                'status' TEXT,\n",
    "                'spec2' TEXT,\n",
    "                'specdate' DATE\n",
    "            ) \n",
    "        '''\n",
    "        cursor.execute(statement)\n",
    "        print('Successfully created database, start crawling...')\n",
    "        conn.close()\n",
    "        return data\n",
    "    except:\n",
    "        # SELECT last record \n",
    "        statement = '''\n",
    "            SELECT * FROM 'CMS_national_provider'\n",
    "            WHERE id = (SELECT MAX(id)  FROM 'CMS_national_provider')\n",
    "        ''' \n",
    "        cursor.execute(statement)\n",
    "        conn.close()\n",
    "        \n",
    "        # SELECT crawled data record \n",
    "        conn = sqlite3.connect(database_name)\n",
    "        cursor = conn.cursor()\n",
    "        statement = '''\n",
    "            SELECT npi FROM 'CMS_national_provider'\n",
    "        ''' \n",
    "        cursor.execute(statement)\n",
    "        crawled_npi = cursor.fetchall()\n",
    "        conn.close()\n",
    "        if len(crawled_npi) == 0: #\n",
    "            print('There is no record in data set, start crawling...')\n",
    "            return data \n",
    "        else:\n",
    "            existing_npi = [str(e[0]) for i,e in enumerate(crawled_npi)]\n",
    "            print('There are %d existing records...resume crawling...' % (len(crawled_npi)))\n",
    "            tocrawl_npi = [i for i in data if i not in existing_npi] \n",
    "            return tocrawl_npi"
   ]
  },
  {
   "cell_type": "code",
   "execution_count": null,
   "metadata": {},
   "outputs": [],
   "source": [
    "# in main function\n",
    "for i,npi in enumerate(data[:2]):\n",
    "        if data.index(npi) == -1:\n",
    "            driver.close()\n",
    "            break"
   ]
  },
  {
   "cell_type": "code",
   "execution_count": 286,
   "metadata": {},
   "outputs": [],
   "source": [
    "def crawl_data(npi): \n",
    "    \n",
    "    driver.get('https://www.abim.org/verify-physician')\n",
    "    search_box = driver.find_element_by_name('npi')\n",
    "    search_box.send_keys(npi)\n",
    "    search_button = driver.find_elements_by_name('type')[2]\n",
    "    search_button.click()\n",
    "    time.sleep(2)\n",
    "    try:\n",
    "        html = driver.find_element_by_class_name(\"abim_voc-profile\")\n",
    "    except:\n",
    "        print(\"%s doesnt exist/IP address is banned by %s\" %s (npi,'https://www.abim.org/verify-physician'))\n",
    "    return html  "
   ]
  },
  {
   "cell_type": "code",
   "execution_count": 532,
   "metadata": {},
   "outputs": [],
   "source": [
    "# take a crawled html from webdriver's results\n",
    "def parse(html):\n",
    "    elements = html.text.split('\\n')\n",
    "    date_index = elements.index(\"TODAY'S DATE\")\n",
    "    abimID_index = elements.index(\"ABIM ID\")\n",
    "    status_index = elements.index(\"CURRENT CERTIFICATION STATUS:\")\n",
    "    initCert_index = elements.index(\"INITIAL CERTIFICATIONS:\")\n",
    "    date = elements[date_index+1]\n",
    "    abim_id = elements[abimID_index+1]\n",
    "    status = elements[status_index+1:initCert_index-1]\n",
    "    initial_certifications = elements[initCert_index+1:]\n",
    "    return date, abim_id, status, initial_certifications\n",
    "\n",
    "# when there is multiple certifiactions and the order of status/certification are not inlined\n",
    "def save_into_database(npi,date,abim_id,status,initial_certifications):\n",
    "    for s in status:\n",
    "        time_stamp = datetime.strptime(date,'%b %d, %Y').strftime('%Y-%m-%d')\n",
    "        certification_row = [npi,time_stamp,abim_id]\n",
    "        ss = s.split(': ')\n",
    "        certification_row += ss\n",
    "        discipline = ss[0]\n",
    "        current_certified_status = ss[1]\n",
    "        for i in initial_certifications:\n",
    "            ii = i.split(': ')\n",
    "            i_discipline = ii[0]\n",
    "            certified_time = ii[1]\n",
    "            if discipline == i_discipline:\n",
    "                certification_row.append(i_discipline)\n",
    "                certification_row.append(certified_time)\n",
    "                certification_row.insert(0,None)\n",
    "                \n",
    "#         print(certification_row)\n",
    "        insert_data(certification_row)"
   ]
  },
  {
   "cell_type": "code",
   "execution_count": 511,
   "metadata": {},
   "outputs": [],
   "source": [
    "# insert values into table \n",
    "def insert_data(row):\n",
    "    conn = sqlite3.connect('test.db')\n",
    "    cursor = conn.cursor()\n",
    "    statement = \"INSERT INTO 'CMS_national_provider' \"\n",
    "    statement += 'VALUES (?,?,?,?,?,?,?,?)'\n",
    "    cursor.execute(statement,row)\n",
    "    conn.commit()\n",
    "    conn.close"
   ]
  },
  {
   "cell_type": "code",
   "execution_count": 536,
   "metadata": {},
   "outputs": [],
   "source": [
    "def main(database_name, npi_list):\n",
    "    data = create_database(database_name,npi_list)\n",
    "    if len(data) == 0:\n",
    "        print(\"All data is crawled and saved in %s\" % (database_name,))\n",
    "        fetch_dataset(database_name)\n",
    "        return 'Crawling Finished'\n",
    "   \n",
    "    for npi in data:\n",
    "        html = crawl_data(npi)\n",
    "        d,a,s,i = parse(html)\n",
    "        save_into_database(npi,d,a,s,i)\n",
    "    print('Crawling Finished')\n",
    "    \n",
    "    fetch_dataset(database_name)"
   ]
  },
  {
   "cell_type": "code",
   "execution_count": 534,
   "metadata": {},
   "outputs": [],
   "source": [
    "# fetch the data set\n",
    "def fetch_dataset(database_name):\n",
    "    conn = sqlite3.connect('test.db')\n",
    "    cursor = conn.cursor()\n",
    "    statement = '''\n",
    "        SELECT * FROM 'CMS_national_provider'\n",
    "    '''\n",
    "    cursor.execute(statement)\n",
    "    for i in cursor.fetchall():\n",
    "        print(i)\n",
    "    conn.close()"
   ]
  },
  {
   "cell_type": "code",
   "execution_count": 537,
   "metadata": {},
   "outputs": [
    {
     "name": "stdout",
     "output_type": "stream",
     "text": [
      "There are 12 existing records...resume crawling...\n",
      "All data is crawled and saved in test.db\n",
      "(1, 1417280017, '2020-02-26', 332931, 'Internal Medicine', 'Certified', 'Internal Medicine', 2012)\n",
      "(2, 1427044981, '2020-02-26', 113026, 'Endocrinology, Diabetes and Metabolism', 'Certified', 'Endocrinology, Diabetes and Metabolism', 1989)\n",
      "(3, 1457616120, '2020-02-26', 364882, 'Endocrinology, Diabetes and Metabolism', 'Certified', 'Endocrinology, Diabetes and Metabolism', 2017)\n",
      "(4, 1457616120, '2020-02-26', 364882, 'Internal Medicine', 'Certified', 'Internal Medicine', 2015)\n",
      "(5, 1487620415, '2020-02-26', 181792, 'Focused Practice in Hospital Medicine', 'Certified', 'Focused Practice in Hospital Medicine', 2018)\n",
      "(6, 1508819434, '2020-02-26', 227645, 'Cardiovascular Disease', 'Certified', 'Cardiovascular Disease', 2012)\n",
      "(7, 1508819434, '2020-02-26', 227645, 'Interventional Cardiology', 'Certified', 'Interventional Cardiology', 2015)\n",
      "(8, 1538153176, '2020-02-26', 181063, 'Internal Medicine', 'Certified', 'Internal Medicine', 1997)\n",
      "(9, 1558322743, '2020-02-26', 126189, 'Cardiovascular Disease', 'Certified', 'Cardiovascular Disease', 1991)\n",
      "(10, 1558322743, '2020-02-26', 126189, 'Internal Medicine', 'Certified', 'Internal Medicine', 1989)\n",
      "(11, 1558322743, '2020-02-26', 126189, 'Interventional Cardiology', 'Certified', 'Interventional Cardiology', 1999)\n",
      "(12, 1588625743, '2020-02-26', 168336, 'Cardiovascular Disease', 'Certified', 'Cardiovascular Disease', 1999)\n"
     ]
    },
    {
     "data": {
      "text/plain": [
       "'Crawling Finished'"
      ]
     },
     "execution_count": 537,
     "metadata": {},
     "output_type": "execute_result"
    }
   ],
   "source": [
    "# main function\n",
    "main('test.db',data)"
   ]
  }
 ],
 "metadata": {
  "kernelspec": {
   "display_name": "Python 3",
   "language": "python",
   "name": "python3"
  },
  "language_info": {
   "codemirror_mode": {
    "name": "ipython",
    "version": 3
   },
   "file_extension": ".py",
   "mimetype": "text/x-python",
   "name": "python",
   "nbconvert_exporter": "python",
   "pygments_lexer": "ipython3",
   "version": "3.7.3"
  }
 },
 "nbformat": 4,
 "nbformat_minor": 2
}
